{
 "cells": [
  {
   "cell_type": "code",
   "execution_count": 1,
   "metadata": {},
   "outputs": [],
   "source": [
    "from langchain.chat_models import ChatOpenAI\n",
    "from langchain.prompts.few_shot import FewShotPromptTemplate\n",
    "from langchain.callbacks import StreamingStdOutCallbackHandler\n",
    "from langchain.prompts import PromptTemplate"
   ]
  },
  {
   "cell_type": "code",
   "execution_count": 2,
   "metadata": {},
   "outputs": [
    {
     "name": "stderr",
     "output_type": "stream",
     "text": [
      "/opt/anaconda3/envs/gpt/lib/python3.11/site-packages/langchain_core/_api/deprecation.py:139: LangChainDeprecationWarning: The class `ChatOpenAI` was deprecated in LangChain 0.0.10 and will be removed in 0.3.0. An updated version of the class exists in the langchain-openai package and should be used instead. To use it run `pip install -U langchain-openai` and import as `from langchain_openai import ChatOpenAI`.\n",
      "  warn_deprecated(\n"
     ]
    }
   ],
   "source": [
    "chat = ChatOpenAI(\n",
    "    temperature=0.1,\n",
    "    streaming=True,\n",
    "    callbacks=[\n",
    "        StreamingStdOutCallbackHandler(),\n",
    "    ],\n",
    ")"
   ]
  },
  {
   "cell_type": "code",
   "execution_count": 3,
   "metadata": {},
   "outputs": [],
   "source": [
    "examples = [\n",
    "    {\n",
    "        \"question\": \"Tell me about the movie, Avengers: Endgame\",\n",
    "        \"answer\": \"\"\"\n",
    "        Director: Anthony Russo, Joe Russo\n",
    "        Main Cast: Robert Downey Jr., Chris Evans, Mark Ruffalo, Chris Hemsworth, Scarlett Johansson\n",
    "        Budget: Approximately $350 million\n",
    "        Box Office Revenue: Approximately $2.79 billion worldwide\n",
    "        Genre: Superhero, Action, Sci-Fi\n",
    "        Brief Synopsis: After Thanos wipes out half of all life in the universe, the surviving Avengers come together for one final battle to undo the devastation and bring back their lost loved ones.\n",
    "        \"\"\"    \n",
    "     },\n",
    "     {\n",
    "        \"question\": \"Tell me about the movie, the Lion King\",\n",
    "        \"answer\":\"\"\"\n",
    "        Director: Jon Favreau\n",
    "        Main Cast: Donald Glover, Beyoncé, James Earl Jones, Chiwetel Ejiofor\n",
    "        Budget: Approximately $260 million\n",
    "        Box Office Revenue: Approximately $1.65 billion worldwide\n",
    "        Genre: Animation, Drama, Adventure\n",
    "        Brief Synopsis: Young lion Simba flees his kingdom after the death of his father, Mufasa, but later embraces his destiny and returns to reclaim his throne.\n",
    "        \"\"\"\n",
    "     },\n",
    "     {\n",
    "        \"question\": \"Tell me about the movie, Top Gun: Maverick\",\n",
    "        \"answer\": \"\"\"\n",
    "        Director: Joseph Kosinski\n",
    "        Main Cast: Tom Cruise, Miles Teller, Jennifer Connelly\n",
    "        Budget: Approximately $170 million\n",
    "        Box Office Revenue: Approximately $1.48 billion worldwide\n",
    "        Genre: Action, Drama\n",
    "        Brief Synopsis: Legendary pilot Maverick returns as a flight instructor after 30 years to train a new generation of pilots while confronting past traumas.\n",
    "        \"\"\"\n",
    "     }\n",
    "]"
   ]
  },
  {
   "cell_type": "code",
   "execution_count": 4,
   "metadata": {},
   "outputs": [
    {
     "name": "stdout",
     "output_type": "stream",
     "text": [
      "AI:\n",
      "        Director: Christopher Nolan\n",
      "        Main Cast: Christian Bale, Heath Ledger, Aaron Eckhart, Michael Caine, Gary Oldman\n",
      "        Budget: Approximately $185 million\n",
      "        Box Office Revenue: Approximately $1.005 billion worldwide\n",
      "        Genre: Superhero, Action, Crime\n",
      "        Brief Synopsis: Batman faces off against the Joker, a criminal mastermind who wreaks havoc on Gotham City, while also dealing with the rise of Two-Face, a former ally turned enemy."
     ]
    },
    {
     "data": {
      "text/plain": [
       "AIMessage(content='AI:\\n        Director: Christopher Nolan\\n        Main Cast: Christian Bale, Heath Ledger, Aaron Eckhart, Michael Caine, Gary Oldman\\n        Budget: Approximately $185 million\\n        Box Office Revenue: Approximately $1.005 billion worldwide\\n        Genre: Superhero, Action, Crime\\n        Brief Synopsis: Batman faces off against the Joker, a criminal mastermind who wreaks havoc on Gotham City, while also dealing with the rise of Two-Face, a former ally turned enemy.', response_metadata={'finish_reason': 'stop'}, id='run-b58042ba-994e-49f2-8b7e-91d888fa1995-0')"
      ]
     },
     "execution_count": 4,
     "metadata": {},
     "output_type": "execute_result"
    }
   ],
   "source": [
    "example_prompt = PromptTemplate.from_template(\"Human:{question}\\nAI:{answer}\")\n",
    "\n",
    "prompt = FewShotPromptTemplate(\n",
    "    example_prompt=example_prompt,\n",
    "    examples=examples,\n",
    "    suffix=\"Tell me about the movie {movie}\",\n",
    "    input_variables=[\"movie\"],\n",
    ")\n",
    "\n",
    "chain = prompt | chat\n",
    "\n",
    "chain.invoke({\"movie\":\"Dark Knight\"})"
   ]
  },
  {
   "cell_type": "code",
   "execution_count": 5,
   "metadata": {},
   "outputs": [
    {
     "name": "stdout",
     "output_type": "stream",
     "text": [
      "AI:\n",
      "        Director: Ron Clements, John Musker\n",
      "        Main Cast: Auli'i Cravalho, Dwayne Johnson\n",
      "        Budget: Approximately $150 million\n",
      "        Box Office Revenue: Approximately $690 million worldwide\n",
      "        Genre: Animation, Adventure, Comedy\n",
      "        Brief Synopsis: Moana, a spirited teenager, sets sail on a daring mission to save her people and discovers her own identity along the way with the help of the demigod Maui."
     ]
    },
    {
     "data": {
      "text/plain": [
       "AIMessage(content=\"AI:\\n        Director: Ron Clements, John Musker\\n        Main Cast: Auli'i Cravalho, Dwayne Johnson\\n        Budget: Approximately $150 million\\n        Box Office Revenue: Approximately $690 million worldwide\\n        Genre: Animation, Adventure, Comedy\\n        Brief Synopsis: Moana, a spirited teenager, sets sail on a daring mission to save her people and discovers her own identity along the way with the help of the demigod Maui.\", response_metadata={'finish_reason': 'stop'}, id='run-c595dc00-c9fc-4036-bba8-26e440da7c0a-0')"
      ]
     },
     "execution_count": 5,
     "metadata": {},
     "output_type": "execute_result"
    }
   ],
   "source": [
    "chain.invoke({\"movie\":\"Moana\"})"
   ]
  },
  {
   "cell_type": "code",
   "execution_count": 6,
   "metadata": {},
   "outputs": [],
   "source": [
    "from langchain.prompts.few_shot import FewShotChatMessagePromptTemplate\n",
    "from langchain.prompts import ChatMessagePromptTemplate, ChatPromptTemplate"
   ]
  },
  {
   "cell_type": "code",
   "execution_count": 7,
   "metadata": {},
   "outputs": [],
   "source": [
    "examples = [\n",
    "    {\n",
    "        \"movie\": \"Avengers: Endgame\",\n",
    "        \"answer\": \"\"\"\n",
    "        Director: Anthony Russo, Joe Russo\n",
    "        Main Cast: Robert Downey Jr., Chris Evans, Mark Ruffalo, Chris Hemsworth, Scarlett Johansson\n",
    "        Budget: Approximately $350 million\n",
    "        Box Office Revenue: Approximately $2.79 billion worldwide\n",
    "        Genre: Superhero, Action, Sci-Fi\n",
    "        Brief Synopsis: After Thanos wipes out half of all life in the universe, the surviving Avengers come together for one final battle to undo the devastation and bring back their lost loved ones.\n",
    "        \"\"\"    \n",
    "     },\n",
    "     {\n",
    "        \"movie\": \"The Lion King\",\n",
    "        \"answer\":\"\"\"\n",
    "        Director: Jon Favreau\n",
    "        Main Cast: Donald Glover, Beyoncé, James Earl Jones, Chiwetel Ejiofor\n",
    "        Budget: Approximately $260 million\n",
    "        Box Office Revenue: Approximately $1.65 billion worldwide\n",
    "        Genre: Animation, Drama, Adventure\n",
    "        Brief Synopsis: Young lion Simba flees his kingdom after the death of his father, Mufasa, but later embraces his destiny and returns to reclaim his throne.\n",
    "        \"\"\"\n",
    "     },\n",
    "     {\n",
    "        \"movie\": \"Top Gun: Maverick\",\n",
    "        \"answer\": \"\"\"\n",
    "        Director: Joseph Kosinski\n",
    "        Main Cast: Tom Cruise, Miles Teller, Jennifer Connelly\n",
    "        Budget: Approximately $170 million\n",
    "        Box Office Revenue: Approximately $1.48 billion worldwide\n",
    "        Genre: Action, Drama\n",
    "        Brief Synopsis: Legendary pilot Maverick returns as a flight instructor after 30 years to train a new generation of pilots while confronting past traumas.\n",
    "        \"\"\"\n",
    "     }\n",
    "]"
   ]
  },
  {
   "cell_type": "code",
   "execution_count": 8,
   "metadata": {},
   "outputs": [
    {
     "name": "stdout",
     "output_type": "stream",
     "text": [
      "Director: Christopher Nolan\n",
      "Main Cast: Christian Bale, Heath Ledger, Aaron Eckhart, Maggie Gyllenhaal\n",
      "Budget: Approximately $185 million\n",
      "Box Office Revenue: Approximately $1.005 billion worldwide\n",
      "Genre: Superhero, Crime, Drama\n",
      "Brief Synopsis: Batman faces his greatest challenge yet as he battles the Joker, a sadistic criminal mastermind who wreaks havoc on Gotham City. Ledger's portrayal of the Joker earned him a posthumous Academy Award for Best Supporting Actor."
     ]
    },
    {
     "data": {
      "text/plain": [
       "AIMessage(content=\"Director: Christopher Nolan\\nMain Cast: Christian Bale, Heath Ledger, Aaron Eckhart, Maggie Gyllenhaal\\nBudget: Approximately $185 million\\nBox Office Revenue: Approximately $1.005 billion worldwide\\nGenre: Superhero, Crime, Drama\\nBrief Synopsis: Batman faces his greatest challenge yet as he battles the Joker, a sadistic criminal mastermind who wreaks havoc on Gotham City. Ledger's portrayal of the Joker earned him a posthumous Academy Award for Best Supporting Actor.\", response_metadata={'finish_reason': 'stop'}, id='run-5a3656bf-ad05-4ac5-b725-cc4fe733e11a-0')"
      ]
     },
     "execution_count": 8,
     "metadata": {},
     "output_type": "execute_result"
    }
   ],
   "source": [
    "example_prompt = ChatPromptTemplate.from_messages(\n",
    "    [\n",
    "        (\"human\",\"Do you know about the movie {movie}?\"),\n",
    "        (\"ai\",\"{answer}\"),\n",
    "    ],\n",
    ")\n",
    "\n",
    "fewshot_prompt = FewShotChatMessagePromptTemplate(\n",
    "    example_prompt=example_prompt,\n",
    "    examples=examples,\n",
    ")\n",
    "\n",
    "final_prompt = ChatPromptTemplate.from_messages(\n",
    "    [\n",
    "        (\"system\",\"You are a Ph.D degree in Movie. And you are insane at movie.\"),\n",
    "        fewshot_prompt,\n",
    "        (\"human\", \"Do you know about the movie {movie}?\"),\n",
    "    ]\n",
    ")\n",
    "\n",
    "final_chain = final_prompt | chat\n",
    "\n",
    "final_chain.invoke({\"movie\":\"The Dark Knight\"})"
   ]
  },
  {
   "cell_type": "code",
   "execution_count": 9,
   "metadata": {},
   "outputs": [
    {
     "name": "stdout",
     "output_type": "stream",
     "text": [
      "\n",
      "        Director: Ron Clements, John Musker\n",
      "        Main Cast: Auli'i Cravalho, Dwayne Johnson\n",
      "        Budget: Approximately $150 million\n",
      "        Box Office Revenue: Approximately $690 million worldwide\n",
      "        Genre: Animation, Adventure, Comedy\n",
      "        Brief Synopsis: Moana, a spirited young girl, sets sail on a daring mission to save her people and discovers her own identity along the way with the help of the demigod Maui.\n",
      "        "
     ]
    },
    {
     "data": {
      "text/plain": [
       "AIMessage(content=\"\\n        Director: Ron Clements, John Musker\\n        Main Cast: Auli'i Cravalho, Dwayne Johnson\\n        Budget: Approximately $150 million\\n        Box Office Revenue: Approximately $690 million worldwide\\n        Genre: Animation, Adventure, Comedy\\n        Brief Synopsis: Moana, a spirited young girl, sets sail on a daring mission to save her people and discovers her own identity along the way with the help of the demigod Maui.\\n        \", response_metadata={'finish_reason': 'stop'}, id='run-efc21fde-d113-43b5-a6ba-49a9a6b523c6-0')"
      ]
     },
     "execution_count": 9,
     "metadata": {},
     "output_type": "execute_result"
    }
   ],
   "source": [
    "final_chain.invoke({\"movie\":\"Moana\"})"
   ]
  }
 ],
 "metadata": {
  "kernelspec": {
   "display_name": "gpt",
   "language": "python",
   "name": "python3"
  },
  "language_info": {
   "codemirror_mode": {
    "name": "ipython",
    "version": 3
   },
   "file_extension": ".py",
   "mimetype": "text/x-python",
   "name": "python",
   "nbconvert_exporter": "python",
   "pygments_lexer": "ipython3",
   "version": "3.11.9"
  }
 },
 "nbformat": 4,
 "nbformat_minor": 2
}
