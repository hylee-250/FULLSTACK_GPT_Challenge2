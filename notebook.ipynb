{
 "cells": [
  {
   "cell_type": "code",
   "execution_count": 1,
   "metadata": {},
   "outputs": [
    {
     "name": "stderr",
     "output_type": "stream",
     "text": [
      "/opt/anaconda3/envs/gpt/lib/python3.11/site-packages/langchain_core/_api/deprecation.py:139: LangChainDeprecationWarning: The class `ChatOpenAI` was deprecated in LangChain 0.0.10 and will be removed in 0.3.0. An updated version of the class exists in the langchain-openai package and should be used instead. To use it run `pip install -U langchain-openai` and import as `from langchain_openai import ChatOpenAI`.\n",
      "  warn_deprecated(\n"
     ]
    }
   ],
   "source": [
    "from langchain.chat_models import ChatOpenAI\n",
    "from langchain.prompts import ChatPromptTemplate\n",
    "from langchain.callbacks import StreamingStdOutCallbackHandler\n",
    "\n",
    "chat = ChatOpenAI(\n",
    "    model=\"gpt-3.5-turbo\",\n",
    "    temperature=0.1,\n",
    "    streaming=True,\n",
    "    callbacks=[\n",
    "        StreamingStdOutCallbackHandler(),\n",
    "    ],\n",
    "    )"
   ]
  },
  {
   "cell_type": "code",
   "execution_count": 2,
   "metadata": {},
   "outputs": [],
   "source": [
    "poetry_template = ChatPromptTemplate.from_messages(\n",
    "    [\n",
    "        (\"system\", \"You are a wonderful poet. And you can write a poetry about a programming language {programming_lang} \"),\n",
    "        (\"human\",\"Write me a poetry about {programming_lang}\"),\n",
    "    ]\n",
    ")\n",
    "\n",
    "description_template = ChatPromptTemplate.from_messages(\n",
    "    [\n",
    "        (\"system\", \"You are a wonderful poetry reader. And you can describe a poetry about a programming language. \\\n",
    "         When you do not know about the meaning of the poetry. Please say 'I don't know about the meaning'\"),\n",
    "        (\"human\",\"{poetry}\"),\n",
    "    ]\n",
    ")"
   ]
  },
  {
   "cell_type": "code",
   "execution_count": 3,
   "metadata": {},
   "outputs": [],
   "source": [
    "poetry_chain = poetry_template | chat\n",
    "\n",
    "description_chain = description_template | chat"
   ]
  },
  {
   "cell_type": "code",
   "execution_count": 4,
   "metadata": {},
   "outputs": [
    {
     "name": "stdout",
     "output_type": "stream",
     "text": [
      "In the realm of code, where languages thrive,\n",
      "There's one that stands out, helping us strive.\n",
      "C# it's called, a language so fine,\n",
      "With elegance and power, it does shine.\n",
      "\n",
      "Its syntax is clean, its structure so neat,\n",
      "Making it easy to write code that's elite.\n",
      "Object-oriented, it leads the way,\n",
      "Encapsulating data, in classes it'll stay.\n",
      "\n",
      "From desktop to web, C# can do it all,\n",
      "Creating applications, both big and small.\n",
      "With libraries galore, and tools so grand,\n",
      "Developers rejoice, with C# in hand.\n",
      "\n",
      "So here's to C#, a language so grand,\n",
      "Empowering us to build, with a steady hand.\n",
      "In the world of programming, it's a true gem,\n",
      "C# shines bright, now and forevermore, amen.You are a wonderful poetry reader. This poem beautifully captures the essence of the C# programming language. The poet praises C# for its elegance, power, and clean syntax, highlighting its ability to facilitate the creation of elite code. The poem also emphasizes C#'s object-oriented nature, versatility in application development, and the joy it brings to developers with its libraries and tools. Overall, the poem celebrates C# as a grand and empowering language in the world of programming."
     ]
    },
    {
     "data": {
      "text/plain": [
       "AIMessage(content=\"You are a wonderful poetry reader. This poem beautifully captures the essence of the C# programming language. The poet praises C# for its elegance, power, and clean syntax, highlighting its ability to facilitate the creation of elite code. The poem also emphasizes C#'s object-oriented nature, versatility in application development, and the joy it brings to developers with its libraries and tools. Overall, the poem celebrates C# as a grand and empowering language in the world of programming.\", response_metadata={'finish_reason': 'stop'}, id='run-6d836a08-496e-425b-8906-26491f2a0f0c-0')"
      ]
     },
     "execution_count": 4,
     "metadata": {},
     "output_type": "execute_result"
    }
   ],
   "source": [
    "final_chain = {\"poetry\" :poetry_chain} | description_chain\n",
    "\n",
    "final_chain.invoke({\"programming_lang\": \"C#\"})"
   ]
  },
  {
   "cell_type": "code",
   "execution_count": null,
   "metadata": {},
   "outputs": [],
   "source": []
  }
 ],
 "metadata": {
  "kernelspec": {
   "display_name": "gpt",
   "language": "python",
   "name": "python3"
  },
  "language_info": {
   "codemirror_mode": {
    "name": "ipython",
    "version": 3
   },
   "file_extension": ".py",
   "mimetype": "text/x-python",
   "name": "python",
   "nbconvert_exporter": "python",
   "pygments_lexer": "ipython3",
   "version": "3.11.9"
  }
 },
 "nbformat": 4,
 "nbformat_minor": 2
}
